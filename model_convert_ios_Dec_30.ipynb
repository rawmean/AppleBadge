{
  "nbformat": 4,
  "nbformat_minor": 0,
  "metadata": {
    "kernelspec": {
      "display_name": "Python 3",
      "language": "python",
      "name": "python3"
    },
    "language_info": {
      "codemirror_mode": {
        "name": "ipython",
        "version": 3
      },
      "file_extension": ".py",
      "mimetype": "text/x-python",
      "name": "python",
      "nbconvert_exporter": "python",
      "pygments_lexer": "ipython3",
      "version": "3.9.1"
    },
    "colab": {
      "name": "model_convert_ios_Dec_30.ipynb",
      "provenance": [],
      "collapsed_sections": [],
      "include_colab_link": true
    },
    "accelerator": "GPU"
  },
  "cells": [
    {
      "cell_type": "markdown",
      "metadata": {
        "id": "view-in-github",
        "colab_type": "text"
      },
      "source": [
        "<a href=\"https://colab.research.google.com/github/rawmean/AppleBadge/blob/master/model_convert_ios_Dec_30.ipynb\" target=\"_parent\"><img src=\"https://colab.research.google.com/assets/colab-badge.svg\" alt=\"Open In Colab\"/></a>"
      ]
    },
    {
      "cell_type": "code",
      "metadata": {
        "id": "oVbZ6YW5H0Vl",
        "colab": {
          "base_uri": "https://localhost:8080/"
        },
        "outputId": "435457c0-528a-478c-92ce-25446bff2a83"
      },
      "source": [
        "#hide\n",
        "!pip install -Uqq fastbook\n",
        "import fastbook\n",
        "fastbook.setup_book()"
      ],
      "execution_count": 1,
      "outputs": [
        {
          "output_type": "stream",
          "text": [
            "\u001b[?25l\r\u001b[K     |▌                               | 10kB 36.9MB/s eta 0:00:01\r\u001b[K     |█                               | 20kB 39.3MB/s eta 0:00:01\r\u001b[K     |█▍                              | 30kB 19.7MB/s eta 0:00:01\r\u001b[K     |█▉                              | 40kB 17.0MB/s eta 0:00:01\r\u001b[K     |██▎                             | 51kB 13.1MB/s eta 0:00:01\r\u001b[K     |██▊                             | 61kB 13.9MB/s eta 0:00:01\r\u001b[K     |███▏                            | 71kB 13.6MB/s eta 0:00:01\r\u001b[K     |███▋                            | 81kB 13.4MB/s eta 0:00:01\r\u001b[K     |████                            | 92kB 13.7MB/s eta 0:00:01\r\u001b[K     |████▌                           | 102kB 13.4MB/s eta 0:00:01\r\u001b[K     |█████                           | 112kB 13.4MB/s eta 0:00:01\r\u001b[K     |█████▌                          | 122kB 13.4MB/s eta 0:00:01\r\u001b[K     |██████                          | 133kB 13.4MB/s eta 0:00:01\r\u001b[K     |██████▍                         | 143kB 13.4MB/s eta 0:00:01\r\u001b[K     |██████▉                         | 153kB 13.4MB/s eta 0:00:01\r\u001b[K     |███████▎                        | 163kB 13.4MB/s eta 0:00:01\r\u001b[K     |███████▊                        | 174kB 13.4MB/s eta 0:00:01\r\u001b[K     |████████▏                       | 184kB 13.4MB/s eta 0:00:01\r\u001b[K     |████████▋                       | 194kB 13.4MB/s eta 0:00:01\r\u001b[K     |█████████                       | 204kB 13.4MB/s eta 0:00:01\r\u001b[K     |█████████▋                      | 215kB 13.4MB/s eta 0:00:01\r\u001b[K     |██████████                      | 225kB 13.4MB/s eta 0:00:01\r\u001b[K     |██████████▌                     | 235kB 13.4MB/s eta 0:00:01\r\u001b[K     |███████████                     | 245kB 13.4MB/s eta 0:00:01\r\u001b[K     |███████████▍                    | 256kB 13.4MB/s eta 0:00:01\r\u001b[K     |███████████▉                    | 266kB 13.4MB/s eta 0:00:01\r\u001b[K     |████████████▎                   | 276kB 13.4MB/s eta 0:00:01\r\u001b[K     |████████████▊                   | 286kB 13.4MB/s eta 0:00:01\r\u001b[K     |█████████████▏                  | 296kB 13.4MB/s eta 0:00:01\r\u001b[K     |█████████████▋                  | 307kB 13.4MB/s eta 0:00:01\r\u001b[K     |██████████████                  | 317kB 13.4MB/s eta 0:00:01\r\u001b[K     |██████████████▋                 | 327kB 13.4MB/s eta 0:00:01\r\u001b[K     |███████████████                 | 337kB 13.4MB/s eta 0:00:01\r\u001b[K     |███████████████▌                | 348kB 13.4MB/s eta 0:00:01\r\u001b[K     |████████████████                | 358kB 13.4MB/s eta 0:00:01\r\u001b[K     |████████████████▍               | 368kB 13.4MB/s eta 0:00:01\r\u001b[K     |████████████████▉               | 378kB 13.4MB/s eta 0:00:01\r\u001b[K     |█████████████████▎              | 389kB 13.4MB/s eta 0:00:01\r\u001b[K     |█████████████████▊              | 399kB 13.4MB/s eta 0:00:01\r\u001b[K     |██████████████████▏             | 409kB 13.4MB/s eta 0:00:01\r\u001b[K     |██████████████████▋             | 419kB 13.4MB/s eta 0:00:01\r\u001b[K     |███████████████████▏            | 430kB 13.4MB/s eta 0:00:01\r\u001b[K     |███████████████████▋            | 440kB 13.4MB/s eta 0:00:01\r\u001b[K     |████████████████████            | 450kB 13.4MB/s eta 0:00:01\r\u001b[K     |████████████████████▌           | 460kB 13.4MB/s eta 0:00:01\r\u001b[K     |█████████████████████           | 471kB 13.4MB/s eta 0:00:01\r\u001b[K     |█████████████████████▍          | 481kB 13.4MB/s eta 0:00:01\r\u001b[K     |█████████████████████▉          | 491kB 13.4MB/s eta 0:00:01\r\u001b[K     |██████████████████████▎         | 501kB 13.4MB/s eta 0:00:01\r\u001b[K     |██████████████████████▊         | 512kB 13.4MB/s eta 0:00:01\r\u001b[K     |███████████████████████▏        | 522kB 13.4MB/s eta 0:00:01\r\u001b[K     |███████████████████████▋        | 532kB 13.4MB/s eta 0:00:01\r\u001b[K     |████████████████████████▏       | 542kB 13.4MB/s eta 0:00:01\r\u001b[K     |████████████████████████▋       | 552kB 13.4MB/s eta 0:00:01\r\u001b[K     |█████████████████████████       | 563kB 13.4MB/s eta 0:00:01\r\u001b[K     |█████████████████████████▌      | 573kB 13.4MB/s eta 0:00:01\r\u001b[K     |██████████████████████████      | 583kB 13.4MB/s eta 0:00:01\r\u001b[K     |██████████████████████████▍     | 593kB 13.4MB/s eta 0:00:01\r\u001b[K     |██████████████████████████▉     | 604kB 13.4MB/s eta 0:00:01\r\u001b[K     |███████████████████████████▎    | 614kB 13.4MB/s eta 0:00:01\r\u001b[K     |███████████████████████████▊    | 624kB 13.4MB/s eta 0:00:01\r\u001b[K     |████████████████████████████▏   | 634kB 13.4MB/s eta 0:00:01\r\u001b[K     |████████████████████████████▊   | 645kB 13.4MB/s eta 0:00:01\r\u001b[K     |█████████████████████████████▏  | 655kB 13.4MB/s eta 0:00:01\r\u001b[K     |█████████████████████████████▋  | 665kB 13.4MB/s eta 0:00:01\r\u001b[K     |██████████████████████████████  | 675kB 13.4MB/s eta 0:00:01\r\u001b[K     |██████████████████████████████▌ | 686kB 13.4MB/s eta 0:00:01\r\u001b[K     |███████████████████████████████ | 696kB 13.4MB/s eta 0:00:01\r\u001b[K     |███████████████████████████████▍| 706kB 13.4MB/s eta 0:00:01\r\u001b[K     |███████████████████████████████▉| 716kB 13.4MB/s eta 0:00:01\r\u001b[K     |████████████████████████████████| 727kB 13.4MB/s \n",
            "\u001b[K     |████████████████████████████████| 194kB 59.1MB/s \n",
            "\u001b[K     |████████████████████████████████| 51kB 9.7MB/s \n",
            "\u001b[K     |████████████████████████████████| 1.1MB 58.8MB/s \n",
            "\u001b[K     |████████████████████████████████| 61kB 10.4MB/s \n",
            "\u001b[?25hMounted at /content/gdrive\n"
          ],
          "name": "stdout"
        }
      ]
    },
    {
      "cell_type": "code",
      "metadata": {
        "colab": {
          "base_uri": "https://localhost:8080/"
        },
        "id": "13zlIeb5tn-h",
        "outputId": "dc6acc84-20ee-4fc4-abfc-a08238055f58"
      },
      "source": [
        "# !pip uninstall coremltools\n",
        "!pip install -Uqq git+https://github.com/apple/coremltools.git@master"
      ],
      "execution_count": 2,
      "outputs": [
        {
          "output_type": "stream",
          "text": [
            "  Building wheel for coremltools (setup.py) ... \u001b[?25l\u001b[?25hdone\n",
            "  Building wheel for attr (setup.py) ... \u001b[?25l\u001b[?25hdone\n"
          ],
          "name": "stdout"
        }
      ]
    },
    {
      "cell_type": "code",
      "metadata": {
        "id": "TTqQKCdXt7uN"
      },
      "source": [
        "from fastai.vision import *\n",
        "from fastai.vision.all import *"
      ],
      "execution_count": 3,
      "outputs": []
    },
    {
      "cell_type": "code",
      "metadata": {
        "id": "hZQy82VrtwTq"
      },
      "source": [
        "model_path = \"gdrive/MyDrive/Colab/bird_identification/models/bird_model_eport.pkl\"\n",
        "learn = load_learner(model_path, cpu=True)"
      ],
      "execution_count": 4,
      "outputs": []
    },
    {
      "cell_type": "code",
      "metadata": {
        "id": "U0CyvLU8NU8N"
      },
      "source": [
        "# - Replace LogSoftmax layer with Softmax at the end to get probability instead of loss/cost\n",
        "# tmp = list(learn.model.children())[1]\n",
        "# final_model = list(tmp)[:-1] + [nn.Softmax()]\n",
        "# final_model = list(learn.model.children()) + [nn.Softmax()]\n",
        "# final_model = nn.Sequential(*final_model)\n",
        "# final_model = learn.model\n",
        "\n",
        "import torch\n",
        "import torch.nn as nn\n",
        "import torchvision\n",
        "final_model = learn.model   # nn.Sequential(learn.model, nn.Softmax())\n"
      ],
      "execution_count": 5,
      "outputs": []
    },
    {
      "cell_type": "code",
      "metadata": {
        "id": "06lvwO_TjE9h"
      },
      "source": [
        "learn.save('learn_model')\n",
        "!cp 'models/learn_model.pth' \"gdrive/MyDrive/Colab/bird_identification/models/learn_model.pth\""
      ],
      "execution_count": 6,
      "outputs": []
    },
    {
      "cell_type": "code",
      "metadata": {
        "id": "wkHJ_iAn_cu-"
      },
      "source": [
        "class Flatten(nn.Module):\n",
        "    \"Flatten `x` to a single dimension, often used at the end of a model. `full` for rank-1 tensor\"\n",
        "    def __init__(self, full:bool=False):\n",
        "        super().__init__()\n",
        "        self.full = full\n",
        "\n",
        "    def forward(self, x):\n",
        "        return x.view(-1) if self.full else x.view(x.size(0), -1)\n",
        "\n",
        "class AdaptiveConcatPool2d(nn.Module):\n",
        "    \"Layer that concats `AdaptiveAvgPool2d` and `AdaptiveMaxPool2d`.\" # from pytorch\n",
        "    def __init__(self, sz:Optional[int]=None): \n",
        "        \"Output will be 2*sz or 2 if sz is None\"\n",
        "        super().__init__()\n",
        "        self.output_size = sz or 1\n",
        "        self.ap = nn.AdaptiveAvgPool2d(self.output_size)\n",
        "        self.mp = nn.AdaptiveMaxPool2d(self.output_size)\n",
        "    def forward(self, x): return torch.cat([self.mp(x), self.ap(x)], 1)\n",
        "    \n",
        "\n",
        "class BatchNorm1d(torch.nn.BatchNorm2d):\n",
        "    def forward(self, x):\n",
        "        x = x.reshape(x.shape[0], -1, 1, 1)\n",
        "        x = super().forward(x)\n",
        "        x = x.flatten(1)\n",
        "        return x\n",
        "\n",
        "\n",
        "def myhead(nf, nc):\n",
        "    return \\\n",
        "    nn.Sequential(        # the dropout is needed otherwise you cannot load the weights\n",
        "            AdaptiveConcatPool2d(),\n",
        "            Flatten(),\n",
        "            BatchNorm1d(nf),\n",
        "            nn.Dropout(p=0.25),\n",
        "            nn.Linear(nf, 512),\n",
        "            nn.ReLU(True),\n",
        "            BatchNorm1d(512),\n",
        "            nn.Dropout(p=0.5),\n",
        "            nn.Linear(512, nc),\n",
        "            nn.Softmax()\n",
        "        )"
      ],
      "execution_count": 39,
      "outputs": []
    },
    {
      "cell_type": "code",
      "metadata": {
        "id": "FC96TMFx_7P5"
      },
      "source": [
        "nf = 1024; nc = learn.n_out\n",
        "\n",
        "modules=list(learn.model.children())\n",
        "modules.pop(-1) \n",
        "temp=nn.Sequential(nn.Sequential(*modules))\n",
        "tempchildren=list(temp.children()) \n",
        "tempchildren.append(myhead(nf,nc))\n",
        "final_model=nn.Sequential(*tempchildren)"
      ],
      "execution_count": 40,
      "outputs": []
    },
    {
      "cell_type": "code",
      "metadata": {
        "colab": {
          "base_uri": "https://localhost:8080/"
        },
        "id": "-WC20x1dAz49",
        "outputId": "1a7b9bb5-8f8d-4a75-ed1e-624d6919b86f"
      },
      "source": [
        "final_model[1]"
      ],
      "execution_count": 41,
      "outputs": [
        {
          "output_type": "execute_result",
          "data": {
            "text/plain": [
              "Sequential(\n",
              "  (0): AdaptiveConcatPool2d(\n",
              "    (ap): AdaptiveAvgPool2d(output_size=1)\n",
              "    (mp): AdaptiveMaxPool2d(output_size=1)\n",
              "  )\n",
              "  (1): Flatten()\n",
              "  (2): BatchNorm1d(1024, eps=1e-05, momentum=0.1, affine=True, track_running_stats=True)\n",
              "  (3): Dropout(p=0.25, inplace=False)\n",
              "  (4): Linear(in_features=1024, out_features=512, bias=True)\n",
              "  (5): ReLU(inplace=True)\n",
              "  (6): BatchNorm1d(512, eps=1e-05, momentum=0.1, affine=True, track_running_stats=True)\n",
              "  (7): Dropout(p=0.5, inplace=False)\n",
              "  (8): Linear(in_features=512, out_features=250, bias=True)\n",
              "  (9): Softmax(dim=None)\n",
              ")"
            ]
          },
          "metadata": {
            "tags": []
          },
          "execution_count": 41
        }
      ]
    },
    {
      "cell_type": "code",
      "metadata": {
        "colab": {
          "base_uri": "https://localhost:8080/"
        },
        "id": "GBH_p2-M_ALL",
        "outputId": "bc1cf9b2-15f3-445a-d1da-1bb33c8b0115"
      },
      "source": [
        ""
      ],
      "execution_count": 9,
      "outputs": [
        {
          "output_type": "execute_result",
          "data": {
            "text/plain": [
              "Sequential(\n",
              "  (0): AdaptiveConcatPool2d(\n",
              "    (ap): AdaptiveAvgPool2d(output_size=1)\n",
              "    (mp): AdaptiveMaxPool2d(output_size=1)\n",
              "  )\n",
              "  (1): Flatten(full=False)\n",
              "  (2): BatchNorm1d(1024, eps=1e-05, momentum=0.1, affine=True, track_running_stats=True)\n",
              "  (3): Dropout(p=0.25, inplace=False)\n",
              "  (4): Linear(in_features=1024, out_features=512, bias=False)\n",
              "  (5): ReLU(inplace=True)\n",
              "  (6): BatchNorm1d(512, eps=1e-05, momentum=0.1, affine=True, track_running_stats=True)\n",
              "  (7): Dropout(p=0.5, inplace=False)\n",
              "  (8): Linear(in_features=512, out_features=250, bias=False)\n",
              ")"
            ]
          },
          "metadata": {
            "tags": []
          },
          "execution_count": 9
        }
      ]
    },
    {
      "cell_type": "code",
      "metadata": {
        "id": "ThHFZ6Z5_6pu"
      },
      "source": [
        ""
      ],
      "execution_count": null,
      "outputs": []
    },
    {
      "cell_type": "code",
      "metadata": {
        "id": "03crCPUsVFgb"
      },
      "source": [
        "# s0 = list(learn.model.children())[0]\n",
        "# s1 = list(learn.model.children())[1]\n",
        "# s1\n",
        "# s1_aug = list(s1) + [nn.Softmax()]\n",
        "# s1_aug\n",
        "\n",
        "# final_model = (nn.Sequential(*s0), nn.Sequential(*s1_aug))\n",
        "# # final_model = nn.Sequential((*s0), (*s1))\n",
        "\n",
        "# # final_model = list(learn.model.children()) + [nn.Softmax()]\n",
        "# final_model = nn.Sequential(*final_model)\n",
        "# final_model"
      ],
      "execution_count": 42,
      "outputs": []
    },
    {
      "cell_type": "code",
      "metadata": {
        "id": "2wsjdVcXvR0X"
      },
      "source": [
        "# Set the model in evaluation mode\n",
        "final_model.eval();"
      ],
      "execution_count": 43,
      "outputs": []
    },
    {
      "cell_type": "code",
      "metadata": {
        "id": "B_x29-St6ckh",
        "colab": {
          "base_uri": "https://localhost:8080/"
        },
        "outputId": "506a2966-e663-4392-c322-2917bdb1d0ef"
      },
      "source": [
        "example_input = torch.randn(1, 3, 224, 224, requires_grad=False).cpu()\n",
        "traced_model = torch.jit.trace(final_model, example_input)\n",
        "traced_model.save('traced_model.pth')\n",
        "!cp 'traced_model.pth' \"gdrive/MyDrive/Colab/bird_identification/models/traced_model.pth\""
      ],
      "execution_count": 44,
      "outputs": [
        {
          "output_type": "stream",
          "text": [
            "/usr/local/lib/python3.6/dist-packages/torch/nn/modules/module.py:725: UserWarning: Implicit dimension choice for softmax has been deprecated. Change the call to include dim=X as an argument.\n",
            "  result = self._slow_forward(*input, **kwargs)\n",
            "/usr/local/lib/python3.6/dist-packages/torch/nn/modules/container.py:117: UserWarning: Implicit dimension choice for softmax has been deprecated. Change the call to include dim=X as an argument.\n",
            "  input = module(input)\n"
          ],
          "name": "stderr"
        }
      ]
    },
    {
      "cell_type": "code",
      "metadata": {
        "id": "XCdJDlVG6iFV"
      },
      "source": [
        "# traced_model = torch.jit.load('traced_model.pth')"
      ],
      "execution_count": 45,
      "outputs": []
    },
    {
      "cell_type": "code",
      "metadata": {
        "id": "uZx1l2h028gn"
      },
      "source": [
        "vocab = learn.dls.vocab\n",
        "import numpy as np\n",
        "np.savetxt(\"class_labels.txt\", np.array(vocab), fmt=\"%s\")"
      ],
      "execution_count": 46,
      "outputs": []
    },
    {
      "cell_type": "code",
      "metadata": {
        "colab": {
          "base_uri": "https://localhost:8080/"
        },
        "id": "DhbGidrX_m6s",
        "outputId": "6fc5ee94-74dd-4360-8c3d-596d57e1cd6d"
      },
      "source": [
        "vocab"
      ],
      "execution_count": 47,
      "outputs": [
        {
          "output_type": "execute_result",
          "data": {
            "text/plain": [
              "['AFRICAN CROWNED CRANE', 'AFRICAN FIREFINCH', 'ALBATROSS', 'ALEXANDRINE PARAKEET', 'AMERICAN AVOCET', 'AMERICAN BITTERN', 'AMERICAN COOT', 'AMERICAN GOLDFINCH', 'AMERICAN KESTREL', 'AMERICAN PIPIT', 'AMERICAN REDSTART', 'ANHINGA', 'ANNAS HUMMINGBIRD', 'ANTBIRD', 'ARARIPE MANAKIN', 'ASIAN CRESTED IBIS', 'BALD EAGLE', 'BALI STARLING', 'BALTIMORE ORIOLE', 'BANANAQUIT', 'BANDED BROADBILL', 'BAR-TAILED GODWIT', 'BARN OWL', 'BARN SWALLOW', 'BARRED PUFFBIRD', 'BAY-BREASTED WARBLER', 'BEARDED BARBET', 'BELTED KINGFISHER', 'BIRD OF PARADISE', 'BLACK FRANCOLIN', 'BLACK SKIMMER', 'BLACK SWAN', 'BLACK THROATED WARBLER', 'BLACK VULTURE', 'BLACK-CAPPED CHICKADEE', 'BLACK-NECKED GREBE', 'BLACK-THROATED SPARROW', 'BLACKBURNIAM WARBLER', 'BLUE GROUSE', 'BLUE HERON', 'BOBOLINK', 'BROWN NOODY', 'BROWN THRASHER', 'CACTUS WREN', 'CALIFORNIA CONDOR', 'CALIFORNIA GULL', 'CALIFORNIA QUAIL', 'CANARY', 'CAPE MAY WARBLER', 'CAPUCHINBIRD', 'CARMINE BEE-EATER', 'CASPIAN TERN', 'CASSOWARY', 'CHARA DE COLLAR', 'CHIPPING SPARROW', 'CHUKAR PARTRIDGE', 'CINNAMON TEAL', 'COCK OF THE  ROCK', 'COCKATOO', 'COMMON FIRECREST', 'COMMON GRACKLE', 'COMMON HOUSE MARTIN', 'COMMON LOON', 'COMMON POORWILL', 'COMMON STARLING', 'COUCHS KINGBIRD', 'CRESTED AUKLET', 'CRESTED CARACARA', 'CRESTED NUTHATCH', 'CROW', 'CROWNED PIGEON', 'CUBAN TODY', 'CURL CRESTED ARACURI', 'D-ARNAUDS BARBET', 'DARK EYED JUNCO', 'DOWNY WOODPECKER', 'EASTERN BLUEBIRD', 'EASTERN MEADOWLARK', 'EASTERN ROSELLA', 'EASTERN TOWEE', 'ELEGANT TROGON', 'ELLIOTS  PHEASANT', 'EMPEROR PENGUIN', 'EMU', 'EURASIAN GOLDEN ORIOLE', 'EURASIAN MAGPIE', 'EVENING GROSBEAK', 'FIRE TAILLED MYZORNIS', 'FLAME TANAGER', 'FLAMINGO', 'FRIGATE', 'GAMBELS QUAIL', 'GILA WOODPECKER', 'GILDED FLICKER', 'GLOSSY IBIS', 'GO AWAY BIRD', 'GOLD WING WARBLER', 'GOLDEN CHEEKED WARBLER', 'GOLDEN CHLOROPHONIA', 'GOLDEN EAGLE', 'GOLDEN PHEASANT', 'GOLDEN PIPIT', 'GOULDIAN FINCH', 'GRAY CATBIRD', 'GRAY PARTRIDGE', 'GREAT POTOO', 'GREATOR SAGE GROUSE', 'GREEN JAY', 'GREY PLOVER', 'GUINEA TURACO', 'GUINEAFOWL', 'GYRFALCON', 'HARPY EAGLE', 'HAWAIIAN GOOSE', 'HELMET VANGA', 'HOATZIN', 'HOODED MERGANSER', 'HOOPOES', 'HORNBILL', 'HORNED GUAN', 'HORNED SUNGEM', 'HOUSE FINCH', 'HOUSE SPARROW', 'IMPERIAL SHAQ', 'INCA TERN', 'INDIAN BUSTARD', 'INDIAN PITTA', 'INDIGO BUNTING', 'JABIRU', 'JAVA SPARROW', 'JAVAN MAGPIE', 'KAKAPO', 'KILLDEAR', 'KING VULTURE', 'KIWI', 'KOOKABURRA', 'LARK BUNTING', 'LEARS MACAW', 'LILAC ROLLER', 'LONG-EARED OWL', 'MALABAR HORNBILL', 'MALACHITE KINGFISHER', 'MALEO', 'MALLARD DUCK', 'MANDRIN DUCK', 'MARABOU STORK', 'MASKED BOOBY', 'MASKED LAPWING', 'MIKADO  PHEASANT', 'MOURNING DOVE', 'MYNA', 'NICOBAR PIGEON', 'NORTHERN BALD IBIS', 'NORTHERN CARDINAL', 'NORTHERN FLICKER', 'NORTHERN GANNET', 'NORTHERN GOSHAWK', 'NORTHERN JACANA', 'NORTHERN MOCKINGBIRD', 'NORTHERN PARULA', 'NORTHERN RED BISHOP', 'OCELLATED TURKEY', 'OKINAWA RAIL', 'OSPREY', 'OSTRICH', 'OYSTER CATCHER', 'PAINTED BUNTIG', 'PALILA', 'PARADISE TANAGER', 'PARUS MAJOR', 'PEACOCK', 'PELICAN', 'PEREGRINE FALCON', 'PHILIPPINE EAGLE', 'PINK ROBIN', 'PUFFIN', 'PURPLE FINCH', 'PURPLE GALLINULE', 'PURPLE MARTIN', 'PURPLE SWAMPHEN', 'QUETZAL', 'RAINBOW LORIKEET', 'RAZORBILL', 'RED BEARDED BEE EATER', 'RED BELLIED PITTA', 'RED FACED CORMORANT', 'RED FACED WARBLER', 'RED HEADED DUCK', 'RED HEADED WOODPECKER', 'RED HONEY CREEPER', 'RED WINGED BLACKBIRD', 'RED WISKERED BULBUL', 'RING-NECKED PHEASANT', 'ROADRUNNER', 'ROBIN', 'ROCK DOVE', 'ROSY FACED LOVEBIRD', 'ROUGH LEG BUZZARD', 'RUBY THROATED HUMMINGBIRD', 'RUFOUS KINGFISHER', 'RUFUOS MOTMOT', 'SAMATRAN THRUSH', 'SAND MARTIN', 'SCARLET IBIS', 'SCARLET MACAW', 'SHOEBILL', 'SHORT BILLED DOWITCHER', 'SMITHS LONGSPUR', 'SNOWY EGRET', 'SNOWY OWL', 'SORA', 'SPANGLED COTINGA', 'SPLENDID WREN', 'SPOON BILED SANDPIPER', 'SPOONBILL', 'SRI LANKA BLUE MAGPIE', 'STEAMER DUCK', 'STORK BILLED KINGFISHER', 'STRAWBERRY FINCH', 'STRIPPED SWALLOW', 'SUPERB STARLING', 'SWINHOES PHEASANT', 'TAIWAN MAGPIE', 'TAKAHE', 'TASMANIAN HEN', 'TEAL DUCK', 'TIT MOUSE', 'TOUCHAN', 'TOWNSENDS WARBLER', 'TREE SWALLOW', 'TRUMPTER SWAN', 'TURKEY VULTURE', 'TURQUOISE MOTMOT', 'UMBRELLA BIRD', 'VARIED THRUSH', 'VENEZUELIAN TROUPIAL', 'VERMILION FLYCATHER', 'VIOLET GREEN SWALLOW', 'VULTURINE GUINEAFOWL', 'WATTLED CURASSOW', 'WHIMBREL', 'WHITE CHEEKED TURACO', 'WHITE NECKED RAVEN', 'WHITE TAILED TROPIC', 'WILD TURKEY', 'WILSONS BIRD OF PARADISE', 'WOOD DUCK', 'YELLOW BELLIED FLOWERPECKER', 'YELLOW CACIQUE', 'YELLOW HEADED BLACKBIRD']"
            ]
          },
          "metadata": {
            "tags": []
          },
          "execution_count": 47
        }
      ]
    },
    {
      "cell_type": "code",
      "metadata": {
        "colab": {
          "base_uri": "https://localhost:8080/"
        },
        "id": "JLsTURg-ueGz",
        "outputId": "ca8350ca-8b1e-430c-e70c-a6576a34763c"
      },
      "source": [
        "import coremltools as ct\n",
        "# Convert to Core ML using the Unified Conversion API\n",
        "\n",
        "class_labels = [vocab[i] for i in range(learn.n_out)]\n",
        "\n",
        "red_scale = 1.0 / (0.229 * 255.0)\n",
        "green_scale = 1.0 / (0.224 * 255.0)\n",
        "blue_scale = 1.0 / (0.225 * 255.0)\n",
        "\n",
        "scale = 1.0 / (0.226 * 255.0)\n",
        "\n",
        "image_input = ct.ImageType(name=\"input_image\", shape=example_input.shape,\n",
        "                           bias=[-(0.485 * 255.0), -(0.456 * 255.0), -(0.406 * 255.0)],\n",
        "                           scale=scale,\n",
        "                           color_layout='RGB')\n",
        "\n",
        "# args = dict(is_bgr=False, red_bias = -(0.485 * 255.0)  , green_bias = -(0.456 * 255.0)  , blue_bias = -(0.406 * 255.0))\n",
        "args = dict(is_bgr=False, red_bias = -(0.485 * 255.0)  , green_bias = -(0.456 * 255.0)  , blue_bias = -(0.406 * 255.0), image_scale = scale )\n",
        "# args = dict(is_bgr=False, image_scale = 1.0/255.0 )\n",
        "\n",
        "coreml_model = ct.convert(\n",
        "    traced_model,\n",
        "    inputs=[image_input], \n",
        "    # inputs=[ct.ImageType(name=\"input.1\", shape=example_input.shape)], \n",
        "    classifier_config = ct.ClassifierConfig(class_labels),\n",
        "    # mode='classifier',\n",
        "    # class_labels=\"class_labels.txt\",\n",
        "    # preprocessing_args=args, \n",
        ")\n",
        "coreml_model.save(\"gdrive/MyDrive/Colab/bird_identification/models/newer_bird.mlmodel\")\n"
      ],
      "execution_count": 48,
      "outputs": [
        {
          "output_type": "stream",
          "text": [
            "Converting Frontend ==> MIL Ops:  88%|████████▊ | 278/316 [00:00<00:00, 1955.68 ops/s]\n",
            "Running MIL optimization passes: 100%|██████████| 17/17 [00:00<00:00, 107.93 passes/s]\n",
            "Translating MIL ==> MLModel Ops: 100%|██████████| 492/492 [00:02<00:00, 198.92 ops/s]\n"
          ],
          "name": "stderr"
        }
      ]
    },
    {
      "cell_type": "code",
      "metadata": {
        "id": "7wMWWUpJz_hw"
      },
      "source": [
        "# #spec = coreml_model.get_spec()\n",
        "# spec = ct.utils.load_spec(\"gdrive/MyDrive/Colab/bird_identification/models/bird.mlmodel\")\n",
        "\n",
        "# ##check your model input and output\n",
        "spec = coreml_model.get_spec()\n",
        "# print(spec.description)\n",
        "ct.utils.save_spec(spec, \"gdrive/MyDrive/Colab/bird_identification/models/new_model.mlmodel\")\n"
      ],
      "execution_count": null,
      "outputs": []
    },
    {
      "cell_type": "code",
      "metadata": {
        "colab": {
          "base_uri": "https://localhost:8080/"
        },
        "id": "QZR5K5jM30to",
        "outputId": "e89b7218-6686-49f9-8ebb-cd7660fc24f9"
      },
      "source": [
        "print(spec.WhichOneof('Type'))\n",
        "spec = coreml_model.get_spec()\n",
        "nn = spec.neuralNetworkClassifier\n",
        "\n",
        "#look at last few layer types, inputs and output names\n",
        "for i in range(-1,-4,-1):\n",
        "  layer = nn.layers[i]\n",
        "  print(\" layer index = %d, Type: %s, input: %s, output: %s\" %(i, layer.WhichOneof('layer'), layer.input[0], layer.output[0]))"
      ],
      "execution_count": null,
      "outputs": [
        {
          "output_type": "stream",
          "text": [
            "neuralNetworkClassifier\n",
            " layer index = -1, Type: innerProduct, input: input.110, output: 497\n",
            " layer index = -2, Type: batchnorm, input: input.109, output: input.110\n",
            " layer index = -3, Type: activation, input: input.108, output: input.109\n"
          ],
          "name": "stdout"
        }
      ]
    },
    {
      "cell_type": "code",
      "metadata": {
        "id": "oeeXRvgO7zZK"
      },
      "source": [
        "import copy\n",
        "spec = coreml_model.get_spec()\n",
        "nn_spec = spec.neuralNetworkClassifier\n",
        "layers = nn_spec.layers # this is a list of all the layers\n",
        "layers_copy = copy.deepcopy(layers) # make a copy of the layers, these will be added back later\n",
        "del nn_spec.layers[:] # delete all the layers"
      ],
      "execution_count": null,
      "outputs": []
    },
    {
      "cell_type": "code",
      "metadata": {
        "id": "YDGdqGSk8KXt"
      },
      "source": [
        "# add a scale layer now\n",
        "# since mlmodel is in protobuf format, we can add proto messages directly\n",
        "# To look at more examples on how to add other layers: see \"builder.py\" file in coremltools repo\n",
        "scale_layer = nn_spec.layers.add()\n",
        "scale_layer.name = 'scale_layer'\n",
        "scale_layer.input.append('input_image')\n",
        "# scale_layer.input.append('input.1')\n",
        "scale_layer.output.append('input1_scaled')\n",
        "params = scale_layer.scale\n",
        "params.scale.floatValue.extend([red_scale, green_scale, blue_scale]) # scale values for RGB\n",
        "params.shapeScale.extend([3,1,1]) # shape of the scale vector \n",
        "\n",
        "# now add back the rest of the layers (which happens to be just one in this case: the crop layer)\n",
        "nn_spec.layers.extend(layers_copy)\n",
        "\n",
        "# need to also change the input of the crop layer to match the output of the scale layer\n",
        "nn_spec.layers[1].input[0] = 'input1_scaled'"
      ],
      "execution_count": null,
      "outputs": []
    },
    {
      "cell_type": "code",
      "metadata": {
        "id": "Ucfh-V1X8s6U"
      },
      "source": [
        "import coremltools.proto.FeatureTypes_pb2 as ft \n",
        "##change input and output type to Image\n",
        "spec = coreml_model.get_spec()\n",
        "input = spec.description.input[0]\n",
        "input.type.imageType.colorSpace = ft.ImageFeatureType.RGB\n",
        "input.type.imageType.height = 224 \n",
        "input.type.imageType.width = 224\n",
        "\n",
        "# ct.utils.rename_feature(spec, 'input', 'input_image')\n",
        "\n",
        "ct.utils.save_spec(spec, \"gdrive/MyDrive/Colab/bird_identification/models/UIImageBird_good.mlmodel\")\n",
        "\n",
        "coreml_model = ct.models.MLModel(spec)"
      ],
      "execution_count": null,
      "outputs": []
    },
    {
      "cell_type": "code",
      "metadata": {
        "id": "QimnvKJnN6nx"
      },
      "source": [
        ""
      ],
      "execution_count": null,
      "outputs": []
    }
  ]
}